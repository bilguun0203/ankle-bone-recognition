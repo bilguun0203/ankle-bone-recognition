{
 "cells": [
  {
   "cell_type": "code",
   "execution_count": null,
   "metadata": {},
   "outputs": [],
   "source": [
    "import json\n",
    "from datasets import load_dataset"
   ]
  },
  {
   "cell_type": "code",
   "execution_count": null,
   "metadata": {},
   "outputs": [],
   "source": [
    "def coco_to_hf_meta(data: dict) -> list[dict]:\n",
    "    metadata = {}\n",
    "    image_id_to_name = {image[\"id\"]: image[\"file_name\"] for image in data[\"images\"]}\n",
    "    for a in data[\"annotations\"]:\n",
    "        image_id = a[\"image_id\"]\n",
    "        if image_id not in metadata:\n",
    "            metadata[image_id] = {\"file_name\": image_id_to_name[image_id], \"objects\": {\"bbox\": [], \"categories\": []}}\n",
    "        metadata[image_id][\"objects\"][\"bbox\"].append(a[\"bbox\"])\n",
    "        metadata[image_id][\"objects\"][\"categories\"].append(a[\"category_id\"])\n",
    "    return list(metadata.values())"
   ]
  },
  {
   "cell_type": "code",
   "execution_count": null,
   "metadata": {},
   "outputs": [],
   "source": [
    "with open(\"ankle_bones_dataset/train/annotations.json\", \"r\") as f:\n",
    "    train_data = json.load(f)\n",
    "\n",
    "with open(\"ankle_bones_dataset/train/metadata.jsonl\", \"w\") as f:\n",
    "    f.write(\"\\n\".join([json.dumps(o) for o in coco_to_hf_meta(train_data)]))\n",
    "\n",
    "with open(\"ankle_bones_dataset/valid/annotations.json\", \"r\") as f:\n",
    "    train_data = json.load(f)\n",
    "\n",
    "with open(\"ankle_bones_dataset/valid/metadata.jsonl\", \"w\") as f:\n",
    "    f.write(\"\\n\".join([json.dumps(o) for o in coco_to_hf_meta(train_data)]))"
   ]
  },
  {
   "cell_type": "code",
   "execution_count": null,
   "metadata": {},
   "outputs": [],
   "source": [
    "dataset = load_dataset(\"imagefolder\", data_dir=\"ankle_bones_dataset\")"
   ]
  },
  {
   "cell_type": "code",
   "execution_count": null,
   "metadata": {},
   "outputs": [],
   "source": [
    "dataset.push_to_hub(\"bilguun/shagai\")"
   ]
  }
 ],
 "metadata": {
  "kernelspec": {
   "display_name": "ml-py3.11",
   "language": "python",
   "name": "python3"
  },
  "language_info": {
   "codemirror_mode": {
    "name": "ipython",
    "version": 3
   },
   "file_extension": ".py",
   "mimetype": "text/x-python",
   "name": "python",
   "nbconvert_exporter": "python",
   "pygments_lexer": "ipython3",
   "version": "3.11.11"
  }
 },
 "nbformat": 4,
 "nbformat_minor": 2
}
